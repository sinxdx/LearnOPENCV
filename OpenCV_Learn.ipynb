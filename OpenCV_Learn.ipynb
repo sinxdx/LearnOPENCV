{
 "cells": [
  {
   "cell_type": "code",
   "execution_count": 1,
   "id": "1f242fb7-515b-42e0-815b-6bfd3838e836",
   "metadata": {},
   "outputs": [],
   "source": [
    "import cv2 # 默认读取格式是 BGR 格式\n",
    "import matplotlib as plt\n",
    "import numpy as np\n",
    "%matplotlib inline"
   ]
  },
  {
   "cell_type": "markdown",
   "id": "94672d4c-cde7-4305-8fd1-0784f9f83632",
   "metadata": {},
   "source": [
    "# 1. 认识图片"
   ]
  },
  {
   "cell_type": "code",
   "execution_count": 21,
   "id": "14257a26-b9c0-490f-a97d-6d70448d4b59",
   "metadata": {
    "collapsed": true,
    "jupyter": {
     "outputs_hidden": true
    },
    "tags": []
   },
   "outputs": [
    {
     "data": {
      "text/plain": [
       "\u001b[1;31mDocstring:\u001b[0m\n",
       "imread(filename[, flags]) -> retval\n",
       ".   @brief Loads an image from a file.\n",
       ".   \n",
       ".   @anchor imread\n",
       ".   \n",
       ".   The function imread loads an image from the specified file and returns it. If the image cannot be\n",
       ".   read (because of missing file, improper permissions, unsupported or invalid format), the function\n",
       ".   returns an empty matrix ( Mat::data==NULL ).\n",
       ".   \n",
       ".   Currently, the following file formats are supported:\n",
       ".   \n",
       ".   -   Windows bitmaps - \\*.bmp, \\*.dib (always supported)\n",
       ".   -   JPEG files - \\*.jpeg, \\*.jpg, \\*.jpe (see the *Note* section)\n",
       ".   -   JPEG 2000 files - \\*.jp2 (see the *Note* section)\n",
       ".   -   Portable Network Graphics - \\*.png (see the *Note* section)\n",
       ".   -   WebP - \\*.webp (see the *Note* section)\n",
       ".   -   Portable image format - \\*.pbm, \\*.pgm, \\*.ppm \\*.pxm, \\*.pnm (always supported)\n",
       ".   -   PFM files - \\*.pfm (see the *Note* section)\n",
       ".   -   Sun rasters - \\*.sr, \\*.ras (always supported)\n",
       ".   -   TIFF files - \\*.tiff, \\*.tif (see the *Note* section)\n",
       ".   -   OpenEXR Image files - \\*.exr (see the *Note* section)\n",
       ".   -   Radiance HDR - \\*.hdr, \\*.pic (always supported)\n",
       ".   -   Raster and Vector geospatial data supported by GDAL (see the *Note* section)\n",
       ".   \n",
       ".   @note\n",
       ".   -   The function determines the type of an image by the content, not by the file extension.\n",
       ".   -   In the case of color images, the decoded images will have the channels stored in **B G R** order.\n",
       ".   -   When using IMREAD_GRAYSCALE, the codec's internal grayscale conversion will be used, if available.\n",
       ".       Results may differ to the output of cvtColor()\n",
       ".   -   On Microsoft Windows\\* OS and MacOSX\\*, the codecs shipped with an OpenCV image (libjpeg,\n",
       ".       libpng, libtiff, and libjasper) are used by default. So, OpenCV can always read JPEGs, PNGs,\n",
       ".       and TIFFs. On MacOSX, there is also an option to use native MacOSX image readers. But beware\n",
       ".       that currently these native image loaders give images with different pixel values because of\n",
       ".       the color management embedded into MacOSX.\n",
       ".   -   On Linux\\*, BSD flavors and other Unix-like open-source operating systems, OpenCV looks for\n",
       ".       codecs supplied with an OS image. Install the relevant packages (do not forget the development\n",
       ".       files, for example, \"libjpeg-dev\", in Debian\\* and Ubuntu\\*) to get the codec support or turn\n",
       ".       on the OPENCV_BUILD_3RDPARTY_LIBS flag in CMake.\n",
       ".   -   In the case you set *WITH_GDAL* flag to true in CMake and @ref IMREAD_LOAD_GDAL to load the image,\n",
       ".       then the [GDAL](http://www.gdal.org) driver will be used in order to decode the image, supporting\n",
       ".       the following formats: [Raster](http://www.gdal.org/formats_list.html),\n",
       ".       [Vector](http://www.gdal.org/ogr_formats.html).\n",
       ".   -   If EXIF information is embedded in the image file, the EXIF orientation will be taken into account\n",
       ".       and thus the image will be rotated accordingly except if the flags @ref IMREAD_IGNORE_ORIENTATION\n",
       ".       or @ref IMREAD_UNCHANGED are passed.\n",
       ".   -   Use the IMREAD_UNCHANGED flag to keep the floating point values from PFM image.\n",
       ".   -   By default number of pixels must be less than 2^30. Limit can be set using system\n",
       ".       variable OPENCV_IO_MAX_IMAGE_PIXELS\n",
       ".   \n",
       ".   @param filename Name of file to be loaded.\n",
       ".   @param flags Flag that can take values of cv::ImreadModes\n",
       "\u001b[1;31mType:\u001b[0m      builtin_function_or_method\n"
      ]
     },
     "metadata": {},
     "output_type": "display_data"
    }
   ],
   "source": [
    "cv2.imread?"
   ]
  },
  {
   "cell_type": "code",
   "execution_count": 24,
   "id": "af8d86e1-644d-4609-a084-cf24ebffcc67",
   "metadata": {},
   "outputs": [],
   "source": [
    "img = cv2.imread(\"Lily_s.jpg\")"
   ]
  },
  {
   "cell_type": "markdown",
   "id": "d48a4104-b6f9-4392-85b3-34c270fb0414",
   "metadata": {},
   "source": [
    "imgread可以指定一个flag cv2.IMREAD_GRAYSCALE，使得读取的图片转换为灰度图"
   ]
  },
  {
   "cell_type": "code",
   "execution_count": 29,
   "id": "aa6b5022-dac4-468b-9c1a-fc4d2b80be7b",
   "metadata": {},
   "outputs": [],
   "source": [
    "img_mono = cv2.imread(\"Lily_s.jpg\",cv2.IMREAD_GRAYSCALE)"
   ]
  },
  {
   "cell_type": "markdown",
   "id": "4161e3d1-07f7-466e-8567-9d68ec2935d8",
   "metadata": {},
   "source": [
    "读取出来的图片是一个 长 x 宽 x 通道数 的三维矩阵   \n",
    "通道数就是BGR通道，分别代表蓝色值、绿色值和红色值，因为opencv使用的是BGR，所以在其他库比如matplot之类的需要进行处理，把它变成RGB才可使用"
   ]
  },
  {
   "cell_type": "code",
   "execution_count": 25,
   "id": "b1c1c41d-d45c-4cfb-8696-43c8ed3648f8",
   "metadata": {},
   "outputs": [
    {
     "data": {
      "text/plain": [
       "(960, 680, 3)"
      ]
     },
     "execution_count": 25,
     "metadata": {},
     "output_type": "execute_result"
    }
   ],
   "source": [
    "img.shape # 分别是这个图像的长和宽还有通道数"
   ]
  },
  {
   "cell_type": "markdown",
   "id": "2eb84930-f62a-4728-9db3-633e4f146f6f",
   "metadata": {},
   "source": [
    "## 1.1 展示图片"
   ]
  },
  {
   "cell_type": "markdown",
   "id": "d3e8cf58-8a82-4c0f-8af2-8cf567dbe258",
   "metadata": {},
   "source": [
    "因为使用其他库来展示还需要把BGR转换成RGB，所以直接使用Opencv自带的库来进行展示   \n",
    "下面的WaitKey指的是，在等待..ms之后，输入任意键会执行下面的指令"
   ]
  },
  {
   "cell_type": "code",
   "execution_count": 26,
   "id": "3317fbf1-e7ba-4438-87b1-de63cb7ec26a",
   "metadata": {},
   "outputs": [],
   "source": [
    "def cv_show(img):\n",
    "    cv2.imshow('image',img)\n",
    "    cv2.waitKey(0)\n",
    "    cv2.destroyAllWindows()"
   ]
  },
  {
   "cell_type": "code",
   "execution_count": 28,
   "id": "2b982805-62a3-40db-8369-c5263832f2dd",
   "metadata": {},
   "outputs": [],
   "source": [
    "cv_show(img)"
   ]
  },
  {
   "cell_type": "code",
   "execution_count": null,
   "id": "59b2c081-98cf-497a-b8ff-7aa028399da0",
   "metadata": {},
   "outputs": [],
   "source": []
  }
 ],
 "metadata": {
  "kernelspec": {
   "display_name": "Python 3.9 (XPython)",
   "language": "python",
   "name": "xpython"
  },
  "language_info": {
   "file_extension": ".py",
   "mimetype": "text/x-python",
   "name": "python",
   "version": "3.9.10"
  }
 },
 "nbformat": 4,
 "nbformat_minor": 5
}
